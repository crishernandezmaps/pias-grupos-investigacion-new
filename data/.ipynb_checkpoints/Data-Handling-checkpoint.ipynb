{
 "cells": [
  {
   "cell_type": "code",
   "execution_count": 1,
   "metadata": {},
   "outputs": [],
   "source": [
    "import pandas as pd\n",
    "from functools import reduce"
   ]
  },
  {
   "cell_type": "markdown",
   "metadata": {},
   "source": [
    "**Creating categories from worksheets located in the original file:**"
   ]
  },
  {
   "cell_type": "code",
   "execution_count": 2,
   "metadata": {},
   "outputs": [],
   "source": [
    "### Dataframes containing filters: cases to count.\n",
    "base = pd.read_excel('centros-investigadores.xlsx',sheetname=0)\n",
    "infraestructura = pd.read_excel('centros-investigadores.xlsx',sheetname=1)\n",
    "servicios = pd.read_excel('centros-investigadores.xlsx',sheetname=2)\n",
    "formacion = pd.read_excel('centros-investigadores.xlsx',sheetname=3)\n",
    "proyectos = pd.read_excel('centros-investigadores.xlsx',sheetname=4)\n",
    "publicaciones = pd.read_excel('centros-investigadores.xlsx',sheetname=5)\n",
    "vinculacion = pd.read_excel('centros-investigadores.xlsx',sheetname=6)\n",
    "investigadores = pd.read_excel('centros-investigadores.xlsx',sheetname=7)"
   ]
  },
  {
   "cell_type": "code",
   "execution_count": 3,
   "metadata": {},
   "outputs": [],
   "source": [
    "### Function to count frequencies of variables and then addit to the original dataframe ('base')\n",
    "def countVar(dataframe, variable):\n",
    "    def size(x):\n",
    "        if(len(x) > 0): \n",
    "            return 1\n",
    "    \n",
    "    dataframe[variable] = infraestructura.apply(lambda row: size(row), axis=1)\n",
    "    x = dataframe.groupby(['id_gi'])[variable].sum()\n",
    "    x = x.reset_index()\n",
    "    return x"
   ]
  },
  {
   "cell_type": "code",
   "execution_count": 17,
   "metadata": {},
   "outputs": [],
   "source": [
    "### Function to count frequencies of national networks\n",
    "def countNetNacional(dataframe, variable):\n",
    "    def size(x):\n",
    "        if(len(x) > 0): \n",
    "            return 1\n",
    "    \n",
    "    nd = dataframe.loc[dataframe['tipo_vinculo'] == 'nacional']\n",
    "    \n",
    "    nd[variable] = nd.apply(lambda row: size(row), axis=1)\n",
    "    x = nd.groupby(['id_gi'])[variable].sum()\n",
    "    x = x.reset_index()\n",
    "    return x\n",
    "\n",
    "### Function to count frequencies of international networks\n",
    "def countNetInternacional(dataframe, variable):\n",
    "    def size(x):\n",
    "        if(len(x) > 0): \n",
    "            return 1\n",
    "    \n",
    "    nd = dataframe.loc[dataframe['tipo_vinculo'] == 'extranjera']\n",
    "    \n",
    "    nd[variable] = nd.apply(lambda row: size(row), axis=1)\n",
    "    x = nd.groupby(['id_gi'])[variable].sum()\n",
    "    x = x.reset_index()\n",
    "    return x"
   ]
  },
  {
   "cell_type": "code",
   "execution_count": 19,
   "metadata": {},
   "outputs": [
    {
     "name": "stderr",
     "output_type": "stream",
     "text": [
      "/usr/local/lib/python3.6/site-packages/ipykernel_launcher.py:9: SettingWithCopyWarning: \n",
      "A value is trying to be set on a copy of a slice from a DataFrame.\n",
      "Try using .loc[row_indexer,col_indexer] = value instead\n",
      "\n",
      "See the caveats in the documentation: http://pandas.pydata.org/pandas-docs/stable/indexing.html#indexing-view-versus-copy\n",
      "  if __name__ == '__main__':\n",
      "/usr/local/lib/python3.6/site-packages/ipykernel_launcher.py:22: SettingWithCopyWarning: \n",
      "A value is trying to be set on a copy of a slice from a DataFrame.\n",
      "Try using .loc[row_indexer,col_indexer] = value instead\n",
      "\n",
      "See the caveats in the documentation: http://pandas.pydata.org/pandas-docs/stable/indexing.html#indexing-view-versus-copy\n"
     ]
    }
   ],
   "source": [
    "### Creating new dataframes with variables included\n",
    "labs = countVar(infraestructura,'labs')\n",
    "services = countVar(servicios, 'services')\n",
    "programmes = countVar(formacion, 'programmes')\n",
    "projects = countVar(proyectos, 'projects')\n",
    "publications = countVar(publicaciones, 'publications')\n",
    "netnacional = countNetNacional(vinculacion, 'netnacional')\n",
    "netextranera = countNetInternacional(vinculacion, 'netinternacional')\n",
    "networks = countVar(vinculacion, 'networks')\n",
    "researchers = countVar(investigadores, 'researchers')\n",
    "\n",
    "### Merging all variables\n",
    "frames = [labs,services,programmes,projects,publications,researchers,netnacional,netextranera,networks]\n",
    "df_variables = reduce(lambda left,right: pd.merge(left, right, on=['id_gi'], how='outer'), frames)\n",
    "\n",
    "### Mergin variables to Base dataframe\n",
    "df_final = pd.merge(base, df_variables, how='inner', on='id_gi')\n",
    "df_final.columns\n",
    "\n",
    "### Exporting to CSV\n",
    "df_final.to_csv('gi_filtros.csv', sep=',', index=False)"
   ]
  },
  {
   "cell_type": "code",
   "execution_count": 5,
   "metadata": {},
   "outputs": [
    {
     "name": "stdout",
     "output_type": "stream",
     "text": [
      "Data-Handling.ipynb         gi_filtros.csv\r\n",
      "centros-investigadores.xlsx gi_filtros.numbers\r\n",
      "filtros.csv                 grupos.csv\r\n",
      "filtros.tsv                 plantas_piloto.xlsx\r\n",
      "flare.json                  template.key\r\n"
     ]
    }
   ],
   "source": [
    "! ls"
   ]
  },
  {
   "cell_type": "markdown",
   "metadata": {},
   "source": [
    "### Process words inside 'lineas de investigacion'"
   ]
  },
  {
   "cell_type": "code",
   "execution_count": 6,
   "metadata": {},
   "outputs": [],
   "source": [
    "import unidecode\n",
    "from nltk import word_tokenize\n",
    "from nltk.corpus import stopwords\n",
    "stop = set(stopwords.words('spanish'))"
   ]
  },
  {
   "cell_type": "code",
   "execution_count": 7,
   "metadata": {},
   "outputs": [],
   "source": [
    "stop.update(('.',',','(',')',':','-','/',';'))"
   ]
  },
  {
   "cell_type": "code",
   "execution_count": 8,
   "metadata": {},
   "outputs": [
    {
     "data": {
      "text/plain": [
       "Index(['c_entidad', 'region', 'entidad', 'direccion_entidad',\n",
       "       'telefono_entidad', 'mail_entidad', 'web_entidad', 'id_gi', 'grupo',\n",
       "       'inocuidad', 'ingredientes', 'funcionalidad', 'linea_investigacion_gi',\n",
       "       'inv_responsable', 'pregrado', 'postgrado', 'cargo',\n",
       "       'telefono_inv_responsable', 'mail_inv_responsable', 'labs', 'services',\n",
       "       'programmes', 'projects', 'publications', 'networks', 'researchers'],\n",
       "      dtype='object')"
      ]
     },
     "execution_count": 8,
     "metadata": {},
     "output_type": "execute_result"
    }
   ],
   "source": [
    "df_lineas = pd.read_csv('gi_filtros.csv', sep=',')\n",
    "df_lineas.columns"
   ]
  },
  {
   "cell_type": "code",
   "execution_count": 9,
   "metadata": {},
   "outputs": [],
   "source": [
    "### Create a list of words, removing stop words in spanish for lines of text.\n",
    "def words(row):\n",
    "    words = word_tokenize(row)\n",
    "    lower = []\n",
    "    for i in words:\n",
    "        lower.append(unidecode.unidecode(i.lower()))\n",
    "    return [i for i in lower if i not in stop]\n",
    "\n",
    "df_lineas['linea_investigacion_gi'] = df_lineas['linea_investigacion_gi'].apply(words)\n",
    "\n",
    "### Exporting to CSV\n",
    "df_lineas.to_csv('filtros.csv', sep=' ', index=False)"
   ]
  },
  {
   "cell_type": "markdown",
   "metadata": {},
   "source": [
    "### Produce 'flare' data format from dataframe for data visualizations."
   ]
  },
  {
   "cell_type": "code",
   "execution_count": 10,
   "metadata": {},
   "outputs": [],
   "source": [
    "import json"
   ]
  },
  {
   "cell_type": "code",
   "execution_count": 11,
   "metadata": {},
   "outputs": [],
   "source": [
    "# CSV 2 flare.json\n",
    "# convert a csv file to flare.json for use with many D3.js viz's\n",
    "# This script creates outputs a flare.json file with 2 levels of nesting.\n",
    "# For additional nested layers, add them in lines 32 - 47\n",
    "# sample: http://bl.ocks.org/mbostock/1283663\n",
    "# author: Andrew Heekin\n",
    "# MIT License\n",
    "\n",
    "# start a new flare.json document\n",
    "# d = dict()\n",
    "# d = {\"name\":\"flare\", \"children\": []}\n",
    "\n",
    "# for line in df1.values:\n",
    "#     the_parent = line[0]\n",
    "#     the_child = line[1]\n",
    "#     child_size = line[2]\n",
    "\n",
    "#     # make a list of keys\n",
    "#     keys_list = []\n",
    "#     for item in d['children']:\n",
    "#         keys_list.append(item['name'])\n",
    "\n",
    "#     # if 'the_parent' is NOT a key in the flare.json yet, append it\n",
    "#     if not the_parent in keys_list:\n",
    "#         d['children'].append({\"name\":the_parent, \"children\":[{\"name\":the_child, \"size\":child_size}]})\n",
    "\n",
    "#     # if 'the_parent' IS a key in the flare.json, add a new child to it\n",
    "#     else:\n",
    "#         d['children'][keys_list.index(the_parent)]['children'].append({\"name\":the_child, \"size\":child_size})\n",
    "\n",
    "\n",
    "# # export the final result to a json file\n",
    "# with open('flare.json', 'w') as outfile:\n",
    "#     json.dump(d, outfile)"
   ]
  }
 ],
 "metadata": {
  "kernelspec": {
   "display_name": "Python 3",
   "language": "python",
   "name": "python3"
  },
  "language_info": {
   "codemirror_mode": {
    "name": "ipython",
    "version": 3
   },
   "file_extension": ".py",
   "mimetype": "text/x-python",
   "name": "python",
   "nbconvert_exporter": "python",
   "pygments_lexer": "ipython3",
   "version": "3.6.2"
  }
 },
 "nbformat": 4,
 "nbformat_minor": 2
}
